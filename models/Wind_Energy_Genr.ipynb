{
  "cells": [
    {
      "cell_type": "code",
      "execution_count": null,
      "metadata": {
        "colab": {
          "base_uri": "https://localhost:8080/"
        },
        "id": "5BkRfrnJ7aDh",
        "outputId": "d2ac7cf0-cbed-4466-ebd0-f5bccf24abef"
      },
      "outputs": [
        {
          "name": "stdout",
          "output_type": "stream",
          "text": [
            "Mean Absolute Error: 76.79123823493927\n",
            "Mean Squared Error: 32198.799175621327\n",
            "R-squared Score: 0.980330116313581\n",
            "Model Accuracy: 95.27%\n",
            "Enter values for prediction:\n",
            "Enter Date/Time (YYYY-MM-DD HH:MM:SS): 2024-03-01 15:30:00\n",
            "Wind Speed (m/s): 12.5\n",
            "Wind Direction (°): 180\n",
            "Predicted LV ActivePower (kW): 3426.082763671875\n"
          ]
        },
        {
          "name": "stderr",
          "output_type": "stream",
          "text": [
            "/usr/local/lib/python3.11/dist-packages/sklearn/utils/validation.py:2739: UserWarning: X does not have valid feature names, but StandardScaler was fitted with feature names\n",
            "  warnings.warn(\n"
          ]
        }
      ],
      "source": [
        "import pandas as pd\n",
        "import numpy as np\n",
        "from sklearn.model_selection import train_test_split\n",
        "from sklearn.preprocessing import StandardScaler\n",
        "import xgboost as xgb\n",
        "from sklearn.metrics import mean_absolute_error, r2_score, mean_squared_error\n",
        "from datetime import datetime\n",
        "\n",
        "file_path = '/content/Cleaned Data (2).csv'\n",
        "data = pd.read_csv(file_path)\n",
        "\n",
        "data['Date/Time'] = pd.to_datetime(data['Date/Time'])\n",
        "\n",
        "data['Hour'] = data['Date/Time'].dt.hour\n",
        "data['Day'] = data['Date/Time'].dt.day\n",
        "data['Month'] = data['Date/Time'].dt.month\n",
        "data.drop(columns=['Date/Time', 'Theoretical_Power_Curve (KWh)'], inplace=True)\n",
        "\n",
        "X = data.drop(columns=['LV ActivePower (kW)'])\n",
        "y = data['LV ActivePower (kW)']\n",
        "\n",
        "X_train, X_test, y_train, y_test = train_test_split(X, y, test_size=0.2, random_state=42)\n",
        "\n",
        "scaler = StandardScaler()\n",
        "X_train = scaler.fit_transform(X_train)\n",
        "X_test = scaler.transform(X_test)\n",
        "\n",
        "model = xgb.XGBRegressor(n_estimators=100, learning_rate=0.1, max_depth=5, random_state=42)\n",
        "model.fit(X_train, y_train)\n",
        "\n",
        "y_pred = model.predict(X_test)\n",
        "\n",
        "mae = mean_absolute_error(y_test, y_pred)\n",
        "mse = mean_squared_error(y_test, y_pred)\n",
        "r2 = r2_score(y_test, y_pred)\n",
        "accuracy = 100 - (mae / np.mean(y_test) * 100)\n",
        "print(f'Mean Absolute Error: {mae}')\n",
        "print(f'Mean Squared Error: {mse}')\n",
        "print(f'R-squared Score: {r2}')\n",
        "print(f'Model Accuracy: {accuracy:.2f}%')\n",
        "\n",
        "# User input for prediction\n",
        "def predict_lv_activation():\n",
        "    print(\"Enter values for prediction:\")\n",
        "    date_time_str = input(\"Enter Date/Time (YYYY-MM-DD HH:MM:SS): \").strip()\n",
        "    date_time = datetime.strptime(date_time_str, \"%Y-%m-%d %H:%M:%S\")\n",
        "    hour = date_time.hour\n",
        "    day = date_time.day\n",
        "    month = date_time.month\n",
        "    wind_speed = float(input(\"Wind Speed (m/s): \"))\n",
        "    wind_direction = float(input(\"Wind Direction (°): \"))\n",
        "\n",
        "    user_data = np.array([[wind_speed, wind_direction, hour, day, month]])\n",
        "    user_data = scaler.transform(user_data)\n",
        "    prediction = model.predict(user_data)\n",
        "    print(f'Predicted LV ActivePower (kW): {prediction[0]}')\n",
        "\n",
        "\n",
        "predict_lv_activation()"
      ]
    },
    {
      "cell_type": "markdown",
      "metadata": {
        "id": "wVtdiBG_-Dxn"
      },
      "source": [
        "Enter Date/Time (YYYY-MM-DD HH:MM:SS): 2024-03-01 15:30:00  \n",
        "Wind Speed (m/s): 12.5  \n",
        "Wind Direction (°): 180  "
      ]
    },
    {
      "cell_type": "code",
      "execution_count": 10,
      "metadata": {
        "id": "JDO4IMCg8OWX"
      },
      "outputs": [],
      "source": []
    }
  ],
  "metadata": {
    "colab": {
      "provenance": []
    },
    "kernelspec": {
      "display_name": "Python 3",
      "name": "python3"
    },
    "language_info": {
      "name": "python"
    }
  },
  "nbformat": 4,
  "nbformat_minor": 0
}
